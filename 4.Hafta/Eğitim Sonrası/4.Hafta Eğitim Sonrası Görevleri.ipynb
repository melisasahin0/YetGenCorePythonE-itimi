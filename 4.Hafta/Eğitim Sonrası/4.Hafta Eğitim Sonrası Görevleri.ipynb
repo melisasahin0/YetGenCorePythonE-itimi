{
 "cells": [
  {
   "cell_type": "markdown",
   "metadata": {},
   "source": [
    "# Problem 1\n",
    "`ogrenciler` adında bir sözlük oluşturunuz. Kullanıcıdan döngü yardımıyla 3 öğrenci için veri girmesini isteyerek öğrencilerin sırasıyla okul numarası, isim, soy isim, telefon numarası ve doğum tarihi bilgilerini alınız. Aldığınız öğrenci bilgilerini yine aynı döngü yardımıyla `ogrenciler` adındaki sözlükte saklayınız. Daha sonra öğrenci bilgilerinin bulunduğu sözlük yapısını ekrana bastırınız.\n",
    "\n"
   ]
  },
  {
   "cell_type": "code",
   "execution_count": null,
   "metadata": {},
   "outputs": [],
   "source": [
    "ogrenciler= {}\n",
    "\n",
    "for i in range(3):\n",
    "    name= input(\"İsminizi giriniz:\")\n",
    "    surname= input(\"Soyadınızı giriniz:\")\n",
    "    schoolNo= input(\"Okul numaranızı giriniz\")\n",
    "    birthday=input(\"Doğum tarihinizi giriniz\")\n",
    "    phoneNumber=input(\"Telefon numaranızı giriniz\")\n",
    "    \n",
    "    ogrenciler[i]={\n",
    "        \"Isim\": name\n",
    "        \"Soyadi\": surname\n",
    "        \"No\": schoolNo\n",
    "        \"Dogum Tarihi\": birthday\n",
    "        \"Telefon Numarasi\": phoneNumber\n",
    "    }\n",
    "print(ogrenciler)"
   ]
  },
  {
   "cell_type": "markdown",
   "metadata": {},
   "source": [
    "# Problem 2\n",
    "\n",
    "### a - Biraz ısınarak başlayalım!\n",
    "\n",
    "```\n",
    "numbers = [5,10,10,15,15,15,20,20,20,20]\n",
    "```\n",
    "\n",
    "Yukarıda `numbers` adında 10 elemanlı bir liste verilmiştir. Bu listenin her elemanını kontrol eden ve tekrar eden elemanları bir kez olacak şekilde başka bir listeye kopyalayan bir program yazınız. Son olarak oluşturduğunuz listeyi ekrana bastırınız.\n",
    "\n",
    "\n",
    "\n",
    "\n",
    "```\n",
    ">Output\n",
    "[5, 10, 15, 20]\n",
    "```\n"
   ]
  },
  {
   "cell_type": "code",
   "execution_count": 12,
   "metadata": {},
   "outputs": [
    {
     "name": "stdout",
     "output_type": "stream",
     "text": [
      "[5, 10, 15, 20]\n"
     ]
    }
   ],
   "source": [
    "numbers = [5,10,10,15,15,15,20,20,20,20]\n",
    "unique=[]\n",
    "\n",
    "for number in numbers:\n",
    "    if number in unique:\n",
    "        continue\n",
    "    else:\n",
    "        unique.append(number)\n",
    "       \n",
    "print(unique)"
   ]
  },
  {
   "cell_type": "markdown",
   "metadata": {},
   "source": [
    "### 🌶️ b) Hadi işi biraz daha zorlaştıralım! \n",
    "\n",
    "\n",
    "Şimdiyse senden `numbers` isimli listedeki tekrar eden elemanları `repeatNumbers` adındaki listeye; tekrar etmeyen elemanları `uniqueNumbers`adındaki listeye kopyalayan yazmanı ve listeleri ekrana bastırmanı bekliyoruz\n",
    "\n",
    "```\n",
    ">Output\n",
    "Tekrar Eden Elemanlar: [10, 10, 15, 15, 15, 20, 20, 20, 20]\n",
    "Tekrar Etmeyen Elemanlar: [5]\n",
    "```"
   ]
  },
  {
   "cell_type": "code",
   "execution_count": 13,
   "metadata": {},
   "outputs": [
    {
     "name": "stdout",
     "output_type": "stream",
     "text": [
      "Tekrar edenler [10, 10, 15, 15, 15, 20, 20, 20, 20]\n",
      "Tekrar etmeyenler [5]\n"
     ]
    }
   ],
   "source": [
    "numbers = [5,10,10,15,15,15,20,20,20,20]\n",
    "unique=[]\n",
    "repeatNumber= []\n",
    "\n",
    "for number in numbers:\n",
    "    if numbers.count(number) ==1:\n",
    "        unique.append(number)\n",
    "    else:\n",
    "        repeatNumber.append(number)\n",
    "\n",
    "print(f\"Tekrar edenler {repeatNumber}\")\n",
    "print(f\"Tekrar etmeyenler {unique}\")"
   ]
  },
  {
   "cell_type": "markdown",
   "metadata": {},
   "source": [
    "# Problem 3\n",
    "sn1 = {1,2,3,4,5}\n",
    "\n",
    "sn2 = {4,5,6,7,8}\n",
    "\n",
    " Verilen 2 adet küme için kesişimlerini, farklarını ve birleşimlerini bulunuz. "
   ]
  },
  {
   "cell_type": "code",
   "execution_count": 15,
   "metadata": {},
   "outputs": [
    {
     "name": "stdout",
     "output_type": "stream",
     "text": [
      "{4, 5}\n",
      "{1, 2, 3}\n",
      "{1, 2, 3, 4, 5, 6, 7, 8}\n"
     ]
    }
   ],
   "source": [
    "sn1 = {1,2,3,4,5}\n",
    "\n",
    "sn2 = {4,5,6,7,8}\n",
    "\n",
    "kesisim= sn1.intersection(sn2)\n",
    "fark= sn1.difference(sn2)\n",
    "toplam= sn1.union(sn2)\n",
    "\n",
    "print(kesisim)\n",
    "print(fark)\n",
    "print(toplam)"
   ]
  },
  {
   "cell_type": "markdown",
   "metadata": {},
   "source": [
    "# Problem 4\n",
    "\n",
    "Buradaki işlemlerimizin tamamı stringler içindir. Aşağıda verilecek olan metodlar için kendinizin örnek yaratması gerekmektedir. \n",
    "\n",
    "Örneğin `upper` için `string` değişkeni oluştururken` k = \"BAC\"` şeklinde oluşturmayınız. Bunun yerine k değişkenini `k = \"bac`\" şeklinde oluşturmanız `upper` metodundaki değişimi görebilmeniz için daha iyi olacaktır.\n",
    "\n",
    "Bütün metodlardaki değişimin gözle görülür şekilde değişimi beklenmektedir.\n",
    "\n",
    "\n",
    "1- capitalize(), lower(), upper(), swapcase(), title(), replace()\n",
    "\n",
    "2- endswith(), startswith(), find(), index(), count()\n",
    "\n",
    "3- split(), strip(), join(), islower(), isalpha(), isdigit()\n",
    "\n",
    "\n",
    "Yukarıdaki `string` metodlarındaki değişimleri görebildiğimiz bir program yazınız.\n"
   ]
  },
  {
   "cell_type": "code",
   "execution_count": 25,
   "metadata": {},
   "outputs": [
    {
     "name": "stdout",
     "output_type": "stream",
     "text": [
      "Python Öğreniyorum\n",
      "Python öğreniyorum\n",
      "python öğreniyorum\n",
      "PYTHON ÖĞRENIYORUM\n",
      "pYTHON öĞRENIYORUM\n",
      "Python Öğreniyorum\n",
      "Öğreneceğim Öğreniyorum\n",
      "False\n",
      "False\n"
     ]
    },
    {
     "ename": "TypeError",
     "evalue": "find() takes at least 1 argument (0 given)",
     "output_type": "error",
     "traceback": [
      "\u001b[1;31m---------------------------------------------------------------------------\u001b[0m",
      "\u001b[1;31mTypeError\u001b[0m                                 Traceback (most recent call last)",
      "Cell \u001b[1;32mIn[25], line 12\u001b[0m\n\u001b[0;32m     10\u001b[0m \u001b[39mprint\u001b[39m(k\u001b[39m.\u001b[39mendswith(\u001b[39m\"\u001b[39m\u001b[39möğreniyorum1\u001b[39m\u001b[39m\"\u001b[39m))\n\u001b[0;32m     11\u001b[0m \u001b[39mprint\u001b[39m(k\u001b[39m.\u001b[39mstartswith(\u001b[39m\"\u001b[39m\u001b[39müniversite\u001b[39m\u001b[39m\"\u001b[39m))\n\u001b[1;32m---> 12\u001b[0m \u001b[39mprint\u001b[39m(k\u001b[39m.\u001b[39;49mfind())\n\u001b[0;32m     13\u001b[0m \u001b[39mprint\u001b[39m(k\u001b[39m.\u001b[39mindex())\n\u001b[0;32m     14\u001b[0m \u001b[39mprint\u001b[39m(k\u001b[39m.\u001b[39mcount())\n",
      "\u001b[1;31mTypeError\u001b[0m: find() takes at least 1 argument (0 given)"
     ]
    }
   ],
   "source": [
    "k= \"Python Öğreniyorum\"\n",
    "print(k)\n",
    "\n",
    "print(k.capitalize())\n",
    "print(k.lower())\n",
    "print(k.upper())\n",
    "print(k.swapcase())\n",
    "print(k.title())\n",
    "print(k.replace(\"Python\", \"Öğreneceğim\"))\n",
    "print(k.endswith(\"öğreniyorum1\"))\n",
    "print(k.startswith(\"üniversite\"))\n",
    "print(k.find(\"Python\"))\n",
    "print(k.index(7,5))\n",
    "print(k.count(\"e\"))\n",
    "print(k.split(\"\"))\n",
    "\n",
    "k=\"                                                              Python Öğreniyorum                                    \"\n",
    "print(k.strip())\n",
    "print(k)\n",
    "l=(\"Python\", \"Öğreniyorum\")\n",
    "print(\"#\".join(l))\n",
    "print(k.islower())\n",
    "print(k.isalpha())\n",
    "print(k.isdigit())\n"
   ]
  }
 ],
 "metadata": {
  "kernelspec": {
   "display_name": "Python 3.10.5 64-bit",
   "language": "python",
   "name": "python3"
  },
  "language_info": {
   "codemirror_mode": {
    "name": "ipython",
    "version": 3
   },
   "file_extension": ".py",
   "mimetype": "text/x-python",
   "name": "python",
   "nbconvert_exporter": "python",
   "pygments_lexer": "ipython3",
   "version": "3.11.1"
  },
  "orig_nbformat": 4,
  "vscode": {
   "interpreter": {
    "hash": "5026d2d6e7aaaaba093def813beadff083d8733e4a511af01735cbabd156995d"
   }
  }
 },
 "nbformat": 4,
 "nbformat_minor": 2
}
