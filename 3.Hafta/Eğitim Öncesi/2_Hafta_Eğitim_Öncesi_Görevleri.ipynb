{
  "cells": [
    {
      "cell_type": "markdown",
      "metadata": {
        "id": "tn8GZg8pTGFf"
      },
      "source": [
        "### Soru 1 \n",
        "Yazılımcıların bir dili öğrenmeye başladığında ilk yapacakları şey ekrana \"Hello World\" yazdırmaktır. Python'da da aynı şeyi yapalım.Bir yazılımcı aşağıdaki kodu yazarken hata yapıyor. Bunu düzelterek çalışan bir kod yazalım.\n"
      ]
    },
    {
      "cell_type": "code",
      "execution_count": 1,
      "metadata": {
        "colab": {
          "base_uri": "https://localhost:8080/"
        },
        "id": "bt_InlLMTGGF",
        "outputId": "4c2a9843-33a4-4d7d-80a9-f1ece8693284"
      },
      "outputs": [
        {
          "name": "stdout",
          "output_type": "stream",
          "text": [
            "Hello World\n"
          ]
        }
      ],
      "source": [
        "print(\"Hello World\")"
      ]
    },
    {
      "cell_type": "markdown",
      "metadata": {
        "id": "t9Rh_pt2TGGL"
      },
      "source": [
        "### Soru 2\n",
        "İki YetGen'li zirvede karşılaşıyor. Zirvede birbirleriyle Python standında konuşurken YetGen Jump Python renginin ne olduğunu konuşurken bir YetGen lideri **logo** değişkenine atayıp ekrana bastırmalarını istiyor. Onlara bu noktada yardımcı olur musun?"
      ]
    },
    {
      "cell_type": "code",
      "execution_count": 2,
      "metadata": {
        "colab": {
          "base_uri": "https://localhost:8080/"
        },
        "id": "RI1LXAWhTGGO",
        "outputId": "513ac574-b42f-4e0b-d090-ef6e5f5b8b23"
      },
      "outputs": [
        {
          "name": "stdout",
          "output_type": "stream",
          "text": [
            "kırmızı mor\n"
          ]
        }
      ],
      "source": [
        "logo = \"kırmızı mor\"\n",
        "print(logo)\n"
      ]
    },
    {
      "cell_type": "markdown",
      "metadata": {
        "id": "g0lXs2PTTGGR"
      },
      "source": [
        "### Soru 3\n",
        "Dairenin alanını hesaplayan bir Python kodu yazınız. pi sayısını 3.14 olarak alınız ve yarıçapını kullanıcıdan alınız. Sonucu ekrana bastırınız."
      ]
    },
    {
      "cell_type": "code",
      "execution_count": 3,
      "metadata": {
        "colab": {
          "base_uri": "https://localhost:8080/"
        },
        "id": "BGpgBhplTGGS",
        "outputId": "c85687d7-b2e3-47a1-9644-1e3dab81e8a9"
      },
      "outputs": [
        {
          "name": "stdout",
          "output_type": "stream",
          "text": [
            "Yarıçapı Gir :2\n",
            "12.56\n"
          ]
        }
      ],
      "source": [
        "def alan(yaricap):\n",
        "    alan = (yaricap **2) * 3.14\n",
        "\n",
        "    return alan\n",
        "\n",
        "\n",
        "r = float(input(\"Yarıçapı Gir :\"))\n",
        "\n",
        "print(alan(r))"
      ]
    },
    {
      "cell_type": "markdown",
      "metadata": {
        "id": "cPMMpdJzTGGV"
      },
      "source": [
        "### Soru 4\n",
        "x ve y adında iki liste oluşturunuz. Bu listeleri birbiryle yer değiştirerek yazdırınız.\n",
        "\n",
        "```python\n",
        "x = [1,2,3,4,5]\n",
        "y = [5,4,3,2,1]\n",
        "``` \n",
        "\n",
        "```python\t\n",
        "Output:\n",
        "x = [5, 4, 3, 2, 1]\n",
        "y = [1, 2, 3, 4, 5]\n",
        "```"
      ]
    },
    {
      "cell_type": "code",
      "execution_count": 15,
      "metadata": {
        "colab": {
          "base_uri": "https://localhost:8080/"
        },
        "id": "jr25yHQM8CTR",
        "outputId": "8e643ea7-f167-4c19-f5d2-04e95f90ac81"
      },
      "outputs": [
        {
          "name": "stdout",
          "output_type": "stream",
          "text": [
            "[1, 2, 3, 4, 5]\n"
          ]
        }
      ],
      "source": [
        "liste1=[1,2,3,4,5]\n",
        "print(liste1)"
      ]
    },
    {
      "cell_type": "code",
      "execution_count": 16,
      "metadata": {
        "colab": {
          "base_uri": "https://localhost:8080/"
        },
        "id": "2qjHuoV7-fPH",
        "outputId": "d6c263ab-0d25-466f-b698-67ed7a785686"
      },
      "outputs": [
        {
          "name": "stdout",
          "output_type": "stream",
          "text": [
            "[5, 4, 3, 2, 1]\n"
          ]
        }
      ],
      "source": [
        "liste1.reverse()\n",
        "print(liste1)"
      ]
    },
    {
      "cell_type": "code",
      "execution_count": 17,
      "metadata": {
        "id": "bNkLmGqJ-qf4"
      },
      "outputs": [],
      "source": [
        "liste2 = [5,4,3,2,1]"
      ]
    },
    {
      "cell_type": "code",
      "execution_count": 18,
      "metadata": {
        "colab": {
          "base_uri": "https://localhost:8080/"
        },
        "id": "LdueEd5x-0Xm",
        "outputId": "2af4c76e-fdc1-4a36-949d-13d823f62474"
      },
      "outputs": [
        {
          "name": "stdout",
          "output_type": "stream",
          "text": [
            "[1, 2, 3, 4, 5]\n"
          ]
        }
      ],
      "source": [
        "liste2.reverse()\n",
        "print(liste2)"
      ]
    },
    {
      "cell_type": "markdown",
      "metadata": {
        "id": "vhKsciz1TGGY"
      },
      "source": [
        "### Soru 5\n",
        "Aşağıda verilen kod satırının sonuncunu 1 olacak şekilde düzenleyiniz."
      ]
    },
    {
      "cell_type": "code",
      "execution_count": 10,
      "metadata": {
        "colab": {
          "base_uri": "https://localhost:8080/"
        },
        "id": "aAgU4SaSTGGb",
        "outputId": "54c1d6c4-8359-4dc4-89e1-df3ce41ed445"
      },
      "outputs": [
        {
          "data": {
            "text/plain": [
              "1"
            ]
          },
          "execution_count": 10,
          "metadata": {},
          "output_type": "execute_result"
        }
      ],
      "source": [
        "(5 - 3) // 2\n"
      ]
    },
    {
      "cell_type": "markdown",
      "metadata": {
        "id": "kRHlU52YTGGe"
      },
      "source": [
        "### Soru 6\n",
        "Aşağıdaki kod satırının sonuncusunu 0 olacak şekilde düzenleyiniz."
      ]
    },
    {
      "cell_type": "code",
      "execution_count": 26,
      "metadata": {
        "colab": {
          "base_uri": "https://localhost:8080/"
        },
        "id": "SQfEo_XTTGGg",
        "outputId": "ee219eba-ab87-47e3-e42c-15e144c522c6"
      },
      "outputs": [
        {
          "data": {
            "text/plain": [
              "0"
            ]
          },
          "execution_count": 26,
          "metadata": {},
          "output_type": "execute_result"
        }
      ],
      "source": [
        "8 - 3 * 2 - (1 + 1)"
      ]
    },
    {
      "cell_type": "markdown",
      "metadata": {
        "id": "tpixAZXyTGGi"
      },
      "source": [
        "### Soru 7\n",
        "YetGen liderlerinden Berkcan, Emirhan ve Eslem, Ramazan Bayramı'nda topladıkları şekerlerini bir araya getirmeyi ve kendi aralarında eşit olarak paylaşmayı kabul ettiler.\n",
        "Eşit paylaşım yapıldıktan sonra kalan şekerler parçalanacak. Örneğin, eğer toplamda 91 şekerleri varsa , her biri 30 tane alıp kalan 1 tane şekeri parçalayacaklar.\n",
        "Kaç tane şekeri parçalayacaklarını hesaplayan bir Python kodu yazınız."
      ]
    },
    {
      "cell_type": "code",
      "execution_count": 22,
      "metadata": {
        "colab": {
          "base_uri": "https://localhost:8080/"
        },
        "id": "O75NG8MaTGGk",
        "outputId": "fe55c57a-4b88-4877-9ced-1736e8011575"
      },
      "outputs": [
        {
          "name": "stdout",
          "output_type": "stream",
          "text": [
            "1\n"
          ]
        }
      ],
      "source": [
        "a = 91\n",
        "b = 3\n",
        "print (a % b)"
      ]
    }
  ],
  "metadata": {
    "colab": {
      "provenance": []
    },
    "kernelspec": {
      "display_name": "Python 3",
      "language": "python",
      "name": "python3"
    },
    "language_info": {
      "codemirror_mode": {
        "name": "ipython",
        "version": 3
      },
      "file_extension": ".py",
      "mimetype": "text/x-python",
      "name": "python",
      "nbconvert_exporter": "python",
      "pygments_lexer": "ipython3",
      "version": "3.11.1"
    },
    "orig_nbformat": 4,
    "vscode": {
      "interpreter": {
        "hash": "aabf29a41659bfe5efe3ac0750639e5513467761498b2cb8bdae4a9ff0b416b7"
      }
    }
  },
  "nbformat": 4,
  "nbformat_minor": 0
}
