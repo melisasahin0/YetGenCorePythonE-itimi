{
 "cells": [
  {
   "attachments": {},
   "cell_type": "markdown",
   "metadata": {},
   "source": [
    "# Problem 1"
   ]
  },
  {
   "cell_type": "code",
   "execution_count": null,
   "metadata": {},
   "outputs": [],
   "source": [
    "# 1 - numpy kütüphanesini import edin\n",
    "\n",
    "import numpy as np\n",
    "\n",
    "# 2 - 0 ile 10 arasında 5 sayıdan oluşan matris üretin\n",
    "\n",
    "matris = np.random.randint(0, 11, size=(5,))\n",
    "\n",
    "# 3 - matris'in boyutunu öğrenin\n",
    "\n",
    "boyut = matris.shape\n",
    "\n",
    "# 4 - matris'i yeniden boyutlandırın\n",
    "\n",
    "yeniden_boyutlandirilmis_matris = matris.reshape((1, 5))\n",
    "\n",
    "# 5 - matris'in boyut sayısını öğrenin\n",
    "\n",
    "boyut_sayisi = matris.ndim\n"
   ]
  },
  {
   "attachments": {},
   "cell_type": "markdown",
   "metadata": {},
   "source": [
    "# Problem 2"
   ]
  },
  {
   "cell_type": "code",
   "execution_count": null,
   "metadata": {},
   "outputs": [],
   "source": [
    "import numpy as np\n",
    "\n",
    "# 1 - 0 ile 10 arasında bulunan tek sayılardan oluşan matris üretin\n",
    "\n",
    "matris = np.arange(1, 11, 2).reshape((2, 3))\n",
    "print(\"matris: \\n\", matris)\n",
    "\n",
    "# 2 - Oluşturduğunuz matrisi parçalayın\n",
    "\n",
    "parca1 = matris[:, :2]\n",
    "parca2 = matris[:, 2:]\n",
    "\n",
    "\n",
    "# 3 - Parçalanmış matrisleri birleştirin\n",
    "\n",
    "birlesik_matris = np.concatenate((parca2, parca1), axis=1)\n",
    "print(\"birleştirilmiş matris: \\n\", birlesik_matris)\n"
   ]
  },
  {
   "attachments": {},
   "cell_type": "markdown",
   "metadata": {},
   "source": [
    "# Problem 3"
   ]
  },
  {
   "cell_type": "code",
   "execution_count": null,
   "metadata": {},
   "outputs": [],
   "source": [
    "# 1 - 5 ile 100 arasında ikişer ikişer atlayarak rastgele 10 sayıdan oluşan matris üretin\n",
    "\n",
    "import numpy as np\n",
    "matris = np.random.choice(np.arange(5, 101, 2), size=(5, 2))\n",
    "print(\"matris: \\n\", matris)\n",
    "\n",
    "# 2 - matris'in özelliklerini inceleyin\n",
    "\n",
    "print(\"matris'in boyutu: \", matris.shape)\n",
    "print(\"matris'in eleman sayısı: \", matris.size)\n",
    "print(\"matris'in veri tipi: \", matris.dtype)\n",
    "print(\"matris'in boyut sayısı: \", matris.ndim)\n",
    "print(\"matris'in en büyük elemanı: \", matris.max())\n",
    "print(\"matris'in en küçük elemanı: \", matris.min())\n",
    "print(\"matris'in elemanlarının toplamı: \", matris.sum())\n"
   ]
  }
 ],
 "metadata": {
  "kernelspec": {
   "display_name": "Python 3",
   "language": "python",
   "name": "python3"
  },
  "language_info": {
   "name": "python",
   "version": "3.10.5 (tags/v3.10.5:f377153, Jun  6 2022, 16:14:13) [MSC v.1929 64 bit (AMD64)]"
  },
  "orig_nbformat": 4,
  "vscode": {
   "interpreter": {
    "hash": "5026d2d6e7aaaaba093def813beadff083d8733e4a511af01735cbabd156995d"
   }
  }
 },
 "nbformat": 4,
 "nbformat_minor": 2
}
