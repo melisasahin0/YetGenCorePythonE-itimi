{
  "cells": [
    {
      "cell_type": "markdown",
      "metadata": {
        "id": "tsD4YVAe_Te2"
      },
      "source": [
        "# Problem 1\n",
        "Bir sayının 7'ye bölünebilir olup olmadığını kontrol etmek \n",
        "için bir program yazın.\n",
        "\n",
        "İpucu: Mod operatörünü (%) kullanabilirsiniz."
      ]
    },
    {
      "cell_type": "code",
      "execution_count": 2,
      "metadata": {
        "colab": {
          "base_uri": "https://localhost:8080/",
          "height": 380
        },
        "id": "NGjvNwKx_Te7",
        "outputId": "fc5f6fd8-c41a-49fa-a150-d2f32910019c"
      },
      "outputs": [
        {
          "name": "stdout",
          "output_type": "stream",
          "text": [
            "n sayınız 7'ye bölünüyor\n"
          ]
        }
      ],
      "source": [
        "n = int(input(\"n sayısını giriniz:\"))\n",
        "if n %7 == 0 :\n",
        "  print(\"n sayınız 7'ye bölünüyor\")\n",
        "else :\n",
        "  print(\"n sayınız 7ye bölünmüyor\")"
      ]
    },
    {
      "cell_type": "markdown",
      "metadata": {
        "id": "Kg3qiBAI_Te8"
      },
      "source": [
        "# Problem 2\n",
        "Kullanıcıdan vize ve final notu isteyin. Girilen vize notunun %40’ı ve \n",
        "girilen finalnotunun ise %60’ı alınarak yıl sonu not ortalaması hesaplanacaktır. \n",
        "\n",
        "Bu not ortalaması eğer 85 ve üzeri ise AA, \n",
        "\n",
        "75 ve 85 arasında ise BA, \n",
        "\n",
        "70 ve 75 arasında ise BB, \n",
        "\n",
        "65 ve 70 arasında ise CB,\n",
        "\n",
        "60 ve 65 arasında ise CC,\n",
        "\n",
        "55 ve 60 arasında ise DC,\n",
        "\n",
        "50 ve 55 arasında ise DD olarak hesaplanacaktır. \n",
        "\n",
        "Bu öğrencinin yıl sonu toplam notu 50’nin altında ise FF ile dersten kalacaktır. \n",
        "\n",
        "Ayrıca öğrencinin final notu 50’nin altında ise direkt FF ile kalacaktır."
      ]
    },
    {
      "cell_type": "code",
      "execution_count": 13,
      "metadata": {
        "colab": {
          "base_uri": "https://localhost:8080/",
          "height": 130
        },
        "id": "MXTtCxI1_Te8",
        "outputId": "632ebc18-36e6-45b4-a585-fa728fa30a90"
      },
      "outputs": [
        {
          "name": "stdout",
          "output_type": "stream",
          "text": [
            "Final Notunuz FF olduğu için kaldınız\n"
          ]
        }
      ],
      "source": [
        "vize = int(input(\"Vize Notunuzu Giriniz:\"))\n",
        "final = int(input(\"Final Notunuzu Giriniz:\"))\n",
        "\n",
        "sonuc= vize*0.4 + final*0.6\n",
        "if final >= 50:\n",
        "\n",
        "  if sonuc>= 85:\n",
        "    print(\"Harf Notunuz AA:\")\n",
        "\n",
        "  elif sonuc >= 75:  \n",
        "    print(\"Harf Notunuz BA:\")\n",
        "\n",
        "  elif sonuc >= 70: \n",
        "    print(\"Harf Notunuz BB:\")\n",
        "\n",
        "  elif sonuc >= 65: \n",
        "    print(\"Harf Notunuz CB:\")\n",
        "\n",
        "  elif sonuc >= 60: \n",
        "    print(\"Harf Notunuz CC:\")\n",
        "\n",
        "  elif sonuc >= 55: \n",
        "    print(\"Harf Notunuz DC:\")\n",
        "\n",
        "  elif sonuc >= 50: \n",
        "    print(\"Harf Notunuz DD:\")\n",
        "\n",
        "  else:\n",
        "    print(\"Harf Notunuz FF:\")\n",
        "else:\n",
        "  print(\"Final Notunuz FF olduğu için kaldınız\")\n",
        "\n"
      ]
    },
    {
      "cell_type": "markdown",
      "metadata": {
        "id": "tAoRYCTC_Te8"
      },
      "source": [
        "# Problem 3\n",
        "İki YetGenli Zirve'de karşılaşıyorlar. Birbirlerini tanımak için sorular soruyorlar. Birbirlerine yaşlarını soruyorlar. Akıllarına bir Python programı yazıp, yaşlarını ve isimlerini giriyorlar. Büyük olanın yaşını ekrana yazdıran programı yazıyorlar. Sende bu iki YetGenli'ye destek olmak ister misin?\n",
        "\n",
        "```\n",
        "Birinci YetGenlinin ismi: Ahmet\n",
        "Birinci YetGenlinin yaşı : 20\n",
        "İkinci YetGenlinin ismi: Mehmet\n",
        "İkinci YetGenlinin yaşı : 25\n",
        "Mehmet'in yaşı daha büyük ve yaşı 25'tir.\n",
        "```"
      ]
    },
    {
      "cell_type": "code",
      "execution_count": 37,
      "metadata": {
        "id": "bPjE8W0i_Te8"
      },
      "outputs": [
        {
          "name": "stdout",
          "output_type": "stream",
          "text": [
            "Mehmet\n"
          ]
        }
      ],
      "source": [
        "birinci_isim=str(input(\"İsmin Ne?\"))\n",
        "birinci_yas=int(input(f\"{birinci_isim} Kaç Yaşındasın?\"))\n",
        "ikinci_isim=str(input(\"İsmin Ne?\"))\n",
        "ikinci_yas=int(input(f\"{ikinci_isim} Kaç Yaşındasın?\"))\n",
        "\n",
        "if ikinci_yas >= birinci_yas:\n",
        "    print(ikinci_isim)\n",
        "else:\n",
        "    print(birinci_isim)\n"
      ]
    },
    {
      "cell_type": "markdown",
      "metadata": {
        "id": "zBVv8Tyg_Te9"
      },
      "source": [
        "# Problem 4\n",
        "Pandemi döneminde AVM'lerde ateş ölçümü yapılıyor. AVM'ye giren kişinin ateş ölçümü 37.5 derecenin altında ise girişe izin veriliyor. 37.5 derecenin üstünde ise girişe izin verilmiyor. AVM'ye girişe izin verilip verilmediğini ekrana yazdıran bir program yazın.\n",
        "\n",
        "Program sonunda şöyle bir çıktı elde etmelisiniz:\n",
        "\n",
        "```\n",
        "Ateşiniz 37.5 derece. AVM'ye girebilirsin! Maske takmayı unutma!\n",
        "Ateşiniz 37.6 derece. AVM'ye giremezsin! Hemen evine dön!\n",
        "```"
      ]
    },
    {
      "cell_type": "code",
      "execution_count": 41,
      "metadata": {
        "id": "TSAXs8et_Te9"
      },
      "outputs": [
        {
          "name": "stdout",
          "output_type": "stream",
          "text": [
            "Ateşiniz 40.0 derece. AVM'ye giremezsin!. Lütfen evine dön!\n"
          ]
        }
      ],
      "source": [
        "ates= float(input(\"Lütfen ateşinizi girer misiniz?\"))\n",
        "if ates<=37.5:\n",
        "    print(f\"Ateşiniz {ates} derece. AVM'ye girebilirsin. Maske takmayı unutma!\")\n",
        "if ates>37.5:\n",
        "    print(f\"Ateşiniz {ates} derece. AVM'ye giremezsin!. Lütfen evine dön!\")"
      ]
    },
    {
      "cell_type": "markdown",
      "metadata": {
        "id": "6AEkZrDt_Te9"
      },
      "source": [
        "# Problem 5\n",
        "YetGen bir spor kulübüyle sponsorluk anlaşması yapıyor. Kulüp, sponsorluk anlaşmasına göre her YetGen liderinin beden kitle indeksini hesaplamak istiyor. Spor kulübü, beden kitle indeksini hesaplamak için YetGen Jump Python liderlerinden Berkcan ve Ahmet'i arıyor. Berkcan ve Ahmet, kulübe yardımcı olmak için bir Python programı yazıyorlar. Sende bu iki YetGen liderine destek olmak ister misin?\n",
        "\n",
        "Kullanıcıdan alınan boy ve kilo değerlerine göre beden kitle indeksini hesaplayın ve şu kurallara göre ekrana şu yazıları yazdırın.\n",
        "\n",
        "\n",
        "Beden Kitle İndeksi, kişinin ağırlığının (kg olarak) boyunun karesine (m olarak) bölünmesiyle hesaplanır.\n",
        "\n",
        "\n",
        "```\n",
        " BKİ 18.5'un altındaysa -------> Zayıf\n",
        "\n",
        " BKİ 18.5 ile 25 arasındaysa ------> Normal\n",
        "\n",
        " BKİ 25 ile 30 arasındaysa --------> Fazla Kilolu\n",
        "\n",
        " BKİ 30'un üstündeyse -------------> Obez\n",
        "```\n",
        "\n"
      ]
    },
    {
      "cell_type": "code",
      "execution_count": 50,
      "metadata": {
        "id": "t-XPI_u0_Te-"
      },
      "outputs": [
        {
          "name": "stdout",
          "output_type": "stream",
          "text": [
            "Sağlam Kafa Sağlam Vücutta Bulunur\n",
            "berkcan Obez\n",
            "ahmet Obez\n"
          ]
        }
      ],
      "source": [
        "print(\"Sağlam Kafa Sağlam Vücutta Bulunur\")\n",
        "\n",
        "lider1= str(input(\"İsminiz Nedir\"))\n",
        "lider1_agirlik= int(input(\"Kaç Kilosun\"))\n",
        "lider1Boy=float(input(\"Boyun Kaç\"))\n",
        "lider1_bki=lider1_agirlik//(lider1Boy)**2\n",
        "\n",
        "if lider1_bki< 18.5:\n",
        "    print(f\"{lider1} Zayıf\")\n",
        "elif lider1_bki<18.5 and lider1_bki<25:\n",
        "    print(f\"{lider1} Normal\")\n",
        "elif lider1_bki<25 and lider1_bki<30:\n",
        "    print(f\"{lider1} Fazla Kilolu\")\n",
        "elif lider1_bki>30:\n",
        "     print(f\"{lider1} Obez\") \n",
        "\n",
        "lider2= str(input(\"İsminiz Nedir\"))\n",
        "lider2_agirlik=int(input(\"Kaç Kilosun\"))\n",
        "lider2Boy=float(input(\"Boyun Kaç\"))\n",
        "lider2_bki=(lider2_agirlik)//(lider2Boy)**2\n",
        "if lider2_bki< 18.5:\n",
        "    print(f\"{lider2} Zayıf\")\n",
        "elif lider2_bki<18.5 and lider2_bki<25:\n",
        "    print(f\"{lider2} Normal\")\n",
        "elif lider1_bki<25 and lider2_bki<30:\n",
        "    print(f\"{lider2} Fazla Kilolu\")\n",
        "elif lider1_bki>30:\n",
        "     print(f\"{lider2} Obez\") \n",
        "\n",
        "\n",
        "\n"
      ]
    },
    {
      "cell_type": "markdown",
      "metadata": {
        "id": "oFsvQyaO_Te-"
      },
      "source": [
        "# Problem 6\n",
        "Kullanıcıdan isim, yaş ve eğitim bilgilerini isteyip ehliyet alabilme  durumunu kontrol ediniz. \n",
        "\n",
        "Ehliyet alma koşulu en az 18 yaşında ve eğitim durumu lise ya da üniversite olmalıdır. "
      ]
    },
    {
      "cell_type": "code",
      "execution_count": 35,
      "metadata": {
        "id": "Tu2mcgco_Te-"
      },
      "outputs": [
        {
          "name": "stdout",
          "output_type": "stream",
          "text": [
            "Ehliyet Hesaplayıcıya Hoş Geldiniz:\n",
            "Merhaba Melisa Şahin , 23 Yaşındasın, üniversite Düzeyindesin ve Ehliyet alabilirsin\n"
          ]
        }
      ],
      "source": [
        "print(\"Ehliyet Hesaplayıcıya Hoş Geldiniz:\")\n",
        "\n",
        "isim= str(input(\"İsim ve Soy İsminizi Yazınız:\"))\n",
        "\n",
        "yas= int(input(\"Kaç Yaşındasınız?\"))\n",
        "\n",
        "\n",
        "if yas <18:\n",
        "    print(f\"{isim}18 yaşından küçük olduğun için ehliyet alamazsın\")\n",
        "else:\n",
        "    egitim_durumu=str(input('Lütfen öğrenim durumunuzu giriniz: \"\"Lise\", \"Üniversite\"') )\n",
        "\n",
        "\n",
        "    if egitim_durumu==\"Lise\" or egitim_durumu==\"Üniversite\":\n",
        "        print(f\"{isim}Eğitim durumunuz ehliyet almaya uygun değil\")\n",
        "    else:\n",
        "        print(f\"Merhaba {isim} , {yas} Yaşındasın, {egitim_durumu} Düzeyindesin ve Ehliyet alabilirsin\")"
      ]
    },
    {
      "cell_type": "markdown",
      "metadata": {
        "id": "eUkxVSAE_Te_"
      },
      "source": [
        "# Problem 7\n",
        "Bir yılın artık yıl olup olmadığını kontrol etmek için bir program yazın. \n",
        "Artık yıl kuralı:\n",
        "\n",
        "a) Eğer yılın son iki basamağı (00) ile bitmiyor ve yalnızca 4'e tam bölünüyorsa artık yıldır. Ya da, \n",
        "\n",
        "b) Eğer yıl 400'e tam bölünüyorsa artık yıldır.\n",
        "\n",
        "**Örneğin**\n",
        "```\n",
        "2017 artık yıl değildir.\n",
        "1900 artık yıl değildir\n",
        "2012 artık yıldır.\n",
        "2000 artık yıldır.\n",
        "```"
      ]
    },
    {
      "cell_type": "code",
      "execution_count": 16,
      "metadata": {
        "id": "4uWh8qUL_Te_"
      },
      "outputs": [
        {
          "name": "stdout",
          "output_type": "stream",
          "text": [
            "Artık Yıl\n"
          ]
        }
      ],
      "source": [
        "yil= int(input(\"Bir yıl giriniz:\"))\n",
        "if yil%4==0:\n",
        "    if yil%100==0:\n",
        "        if yil%400==0:\n",
        "            print(\"Artık Yıl\")\n",
        "        else:\n",
        "            print(\"Artık Yıl değil\")\n",
        "    else:\n",
        "        print(\"Artık Yıl\")\n",
        "else:\n",
        "    print(\"Artık Yıl değil\")"
      ]
    }
  ],
  "metadata": {
    "colab": {
      "provenance": []
    },
    "kernelspec": {
      "display_name": "Python 3.10.5 64-bit",
      "language": "python",
      "name": "python3"
    },
    "language_info": {
      "codemirror_mode": {
        "name": "ipython",
        "version": 3
      },
      "file_extension": ".py",
      "mimetype": "text/x-python",
      "name": "python",
      "nbconvert_exporter": "python",
      "pygments_lexer": "ipython3",
      "version": "3.11.1"
    },
    "orig_nbformat": 4,
    "vscode": {
      "interpreter": {
        "hash": "5026d2d6e7aaaaba093def813beadff083d8733e4a511af01735cbabd156995d"
      }
    }
  },
  "nbformat": 4,
  "nbformat_minor": 0
}
